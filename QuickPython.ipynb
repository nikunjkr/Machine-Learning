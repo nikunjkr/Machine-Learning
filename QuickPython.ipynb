{
  "nbformat": 4,
  "nbformat_minor": 0,
  "metadata": {
    "colab": {
      "name": "Untitled1.ipynb",
      "provenance": [],
      "authorship_tag": "ABX9TyPwAo0/KtBz4Ky0gT0rLJHd",
      "include_colab_link": true
    },
    "kernelspec": {
      "name": "python3",
      "display_name": "Python 3"
    }
  },
  "cells": [
    {
      "cell_type": "markdown",
      "metadata": {
        "id": "view-in-github",
        "colab_type": "text"
      },
      "source": [
        "<a href=\"https://colab.research.google.com/github/nikunjkr/Machine-Learning/blob/master/QuickPython.ipynb\" target=\"_parent\"><img src=\"https://colab.research.google.com/assets/colab-badge.svg\" alt=\"Open In Colab\"/></a>"
      ]
    },
    {
      "cell_type": "code",
      "metadata": {
        "id": "IWgtf1qtyZIT",
        "colab_type": "code",
        "colab": {}
      },
      "source": [
        "def HelloWorld(x,y):\n",
        "    if(x<10):\n",
        "        print (\"Hello World, x used was < 10\")\n",
        "    elif(x<20):\n",
        "        print(\"Hello World , x used was <20\")\n",
        "    else:\n",
        "        print(\"Hello World , x was >=20\")\n",
        "    return x + y\n"
      ],
      "execution_count": 0,
      "outputs": []
    },
    {
      "cell_type": "code",
      "metadata": {
        "id": "5s7VDJAJ1Gh1",
        "colab_type": "code",
        "colab": {
          "base_uri": "https://localhost:8080/",
          "height": 50
        },
        "outputId": "e8c6cfea-e23b-4f60-e946-1a847dd95166"
      },
      "source": [
        "# call fun HelloWorld\n",
        "HelloWorld(15,20)"
      ],
      "execution_count": 3,
      "outputs": [
        {
          "output_type": "stream",
          "text": [
            "Hello World , x used was <20\n"
          ],
          "name": "stdout"
        },
        {
          "output_type": "execute_result",
          "data": {
            "text/plain": [
              "35"
            ]
          },
          "metadata": {
            "tags": []
          },
          "execution_count": 3
        }
      ]
    }
  ]
}